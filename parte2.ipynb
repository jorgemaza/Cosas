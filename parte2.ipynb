{
 "cells": [
  {
   "cell_type": "markdown",
   "metadata": {
    "slideshow": {
     "slide_type": "-"
    }
   },
   "source": [
    "<center>Jorge Maza de Julián. Entornos de Data Science (Python). Máster en Big Data y Business Analytics. PEC2, Parte 2.</center>\n",
    "\n",
    "# Parte 2"
   ]
  },
  {
   "cell_type": "markdown",
   "metadata": {},
   "source": [
    "** En esta segunda parte trabajaremos con información en XML. Concretamente, el gobierno británico nos ofrece datasets sobre eventos de tráfico:**\n",
    "**https://data.gov.uk/dataset/live-traffic-information-from-the-highways-agency-road-network**\n",
    "\n",
    "** Trabajaremos con los “Unplanned Events” que se proporcionan en un formato XML. **\n",
    "\n",
    "** Se puede descargar de esta URL:** **http://hatrafficinfo.dft.gov.uk/feeds/datex/England/UnplannedEvent/content.xml**\n",
    "\n",
    "** Concretamente, contiene un conjunto de situaciones (“situation”) y dentro de la descripción\n",
    "de las situaciones, nos interesa el impacto (“impact”).**\n",
    "\n",
    "**Investiga el impacto de los eventos no planificados en las variables que aporten algo de\n",
    "información. Por ejemplo, la variable “capacityRemaining” indica la capacidad de la vía que\n",
    "la situación dejó sin afectar, y en ocasiones indica obstrucción total (valor 0.0) pero en otros\n",
    "casos sólo parcial. Estudia descriptivamente al menos 3 de las variables, sean numéricas o\n",
    "categóricas, dentro de las que describen el impacto solamente.**"
   ]
  },
  {
   "cell_type": "markdown",
   "metadata": {},
   "source": [
    "El siguiente fragmento XML sería un impacto:\n",
    "\n",
    "```\n",
    "<impactOnTraffic>impossible</impactOnTraffic>\n",
    "<capacityRemaining>0.0</capacityRemaining>\n",
    "<numberOfLanesRestricted>1</numberOfLanesRestricted>\n",
    "<numberOfOperationalLanes>0</numberOfOperationalLanes>\n",
    "<originalNumberOfLanes>1</originalNumberOfLanes>\n",
    "<trafficRestrictionType>carriagewayBlocked</trafficRestrictionType>\n",
    "<delays>\n",
    "    <delayTimeValue>600.0</delayTimeValue>\n",
    "</delays>\n",
    "```\n",
    "\n",
    "En el cual tendríamos el impacto en tráfico, la capacidad restante, el número de carriles restringidos, el número de carriles actualmente operativos, el número de carriles original, el tipo de restricción de tráfico y el retraso que conllevan (se da por hecho que delays es un componente con un sólo elemento delayTimeValue)"
   ]
  },
  {
   "cell_type": "code",
   "execution_count": 2,
   "metadata": {
    "collapsed": false
   },
   "outputs": [],
   "source": [
    "import pandas as pd\n",
    "from lxml import objectify\n",
    "%matplotlib inline\n",
    "from ggplot import *  "
   ]
  },
  {
   "cell_type": "markdown",
   "metadata": {},
   "source": [
    "Las bibliotecas a importar son pandas para tratar con el dataframe, objectify para el XML y ggplot para las gráficas"
   ]
  },
  {
   "cell_type": "code",
   "execution_count": 22,
   "metadata": {
    "collapsed": false
   },
   "outputs": [
    {
     "data": {
      "text/html": [
       "<div>\n",
       "<table border=\"1\" class=\"dataframe\">\n",
       "  <thead>\n",
       "    <tr style=\"text-align: right;\">\n",
       "      <th></th>\n",
       "      <th>impact</th>\n",
       "      <th>rType</th>\n",
       "      <th>capRemaining</th>\n",
       "      <th>rsLanes</th>\n",
       "      <th>opLanes</th>\n",
       "      <th>orLanes</th>\n",
       "      <th>delay</th>\n",
       "    </tr>\n",
       "  </thead>\n",
       "  <tbody>\n",
       "    <tr>\n",
       "      <th>GUID732336731</th>\n",
       "      <td>heavy</td>\n",
       "      <td>carriagewayPartiallyObstructed</td>\n",
       "      <td>75.0</td>\n",
       "      <td>1.0</td>\n",
       "      <td>3.0</td>\n",
       "      <td>4.0</td>\n",
       "      <td>600.0</td>\n",
       "    </tr>\n",
       "    <tr>\n",
       "      <th>GUID732889125</th>\n",
       "      <td>impossible</td>\n",
       "      <td>carriagewayBlocked</td>\n",
       "      <td>0.0</td>\n",
       "      <td>2.0</td>\n",
       "      <td>0.0</td>\n",
       "      <td>2.0</td>\n",
       "      <td>900.0</td>\n",
       "    </tr>\n",
       "    <tr>\n",
       "      <th>GUID732957845</th>\n",
       "      <td>impossible</td>\n",
       "      <td>carriagewayBlocked</td>\n",
       "      <td>0.0</td>\n",
       "      <td>1.0</td>\n",
       "      <td>0.0</td>\n",
       "      <td>1.0</td>\n",
       "      <td>600.0</td>\n",
       "    </tr>\n",
       "    <tr>\n",
       "      <th>GUID733038589</th>\n",
       "      <td>impossible</td>\n",
       "      <td>carriagewayBlocked</td>\n",
       "      <td>0.0</td>\n",
       "      <td>1.0</td>\n",
       "      <td>0.0</td>\n",
       "      <td>1.0</td>\n",
       "      <td>0.0</td>\n",
       "    </tr>\n",
       "    <tr>\n",
       "      <th>GUID733038591</th>\n",
       "      <td>impossible</td>\n",
       "      <td>carriagewayBlocked</td>\n",
       "      <td>0.0</td>\n",
       "      <td>1.0</td>\n",
       "      <td>0.0</td>\n",
       "      <td>1.0</td>\n",
       "      <td>0.0</td>\n",
       "    </tr>\n",
       "    <tr>\n",
       "      <th>GUID733043648</th>\n",
       "      <td>freeFlow</td>\n",
       "      <td>carriagewayPartiallyObstructed</td>\n",
       "      <td>33.0</td>\n",
       "      <td>2.0</td>\n",
       "      <td>1.0</td>\n",
       "      <td>3.0</td>\n",
       "      <td>0.0</td>\n",
       "    </tr>\n",
       "  </tbody>\n",
       "</table>\n",
       "</div>"
      ],
      "text/plain": [
       "                   impact                           rType  capRemaining  \\\n",
       "GUID732336731       heavy  carriagewayPartiallyObstructed          75.0   \n",
       "GUID732889125  impossible              carriagewayBlocked           0.0   \n",
       "GUID732957845  impossible              carriagewayBlocked           0.0   \n",
       "GUID733038589  impossible              carriagewayBlocked           0.0   \n",
       "GUID733038591  impossible              carriagewayBlocked           0.0   \n",
       "GUID733043648    freeFlow  carriagewayPartiallyObstructed          33.0   \n",
       "\n",
       "               rsLanes  opLanes  orLanes  delay  \n",
       "GUID732336731      1.0      3.0      4.0  600.0  \n",
       "GUID732889125      2.0      0.0      2.0  900.0  \n",
       "GUID732957845      1.0      0.0      1.0  600.0  \n",
       "GUID733038589      1.0      0.0      1.0    0.0  \n",
       "GUID733038591      1.0      0.0      1.0    0.0  \n",
       "GUID733043648      2.0      1.0      3.0    0.0  "
      ]
     },
     "execution_count": 22,
     "metadata": {},
     "output_type": "execute_result"
    }
   ],
   "source": [
    "parsed = objectify.parse('http://hatrafficinfo.dft.gov.uk/feeds/datex/England/UnplannedEvent/content.xml')\n",
    "root = parsed.getroot()\n",
    "\n",
    "impacts = pd.DataFrame(columns=[\"impact\",\"rType\",\"capRemaining\", \"rsLanes\",\"opLanes\",\"orLanes\",\"delay\"])\n",
    "\n",
    "for situation in root.payloadPublication.situation:\n",
    "    impact = situation.situationRecord.impact\n",
    "    impactDetails = impact.impactDetails\n",
    "    \n",
    "    impactOnTraffic = str(impact.impactOnTraffic)\n",
    "    rType = str(impactDetails.trafficRestrictionType)\n",
    "    capRemaining = float(impactDetails.capacityRemaining)\n",
    "    rsLanes = int(impactDetails.numberOfLanesRestricted)\n",
    "    opLanes = int(impactDetails.numberOfOperationalLanes)\n",
    "    orLanes = int(impactDetails.originalNumberOfLanes)    \n",
    "    delay = float(situation.situationRecord.impact.delays[0].delayTimeValue)\n",
    "    \n",
    "    impacts.loc[situation.get('id')] = [impactOnTraffic,rType,capRemaining,rsLanes,opLanes,orLanes,delay]\n",
    "    \n",
    "impacts"
   ]
  },
  {
   "cell_type": "markdown",
   "metadata": {},
   "source": [
    "Una vez obtenido el dataframe con los datos, escogeremos tres variables: \n",
    "- Impacto (impact)\n",
    "- Carriles operativos (opLanes)\n",
    "- Retraso (delay)"
   ]
  },
  {
   "cell_type": "code",
   "execution_count": 9,
   "metadata": {
    "collapsed": false
   },
   "outputs": [
    {
     "data": {
      "text/plain": [
       "<matplotlib.axes._subplots.AxesSubplot at 0xfaab6a0>"
      ]
     },
     "execution_count": 9,
     "metadata": {},
     "output_type": "execute_result"
    },
    {
     "data": {
      "image/png": "[encoded data removed]",
      "text/plain": [
       "<matplotlib.figure.Figure at 0xf7f9a90>"
      ]
     },
     "metadata": {},
     "output_type": "display_data"
    }
   ],
   "source": [
    "impacts.plot(\"impact\",\"opLanes\",kind=\"bar\")"
   ]
  },
  {
   "cell_type": "markdown",
   "metadata": {},
   "source": [
    "Se puede observar en el primer diagrama que a mayor cantidad de carriles operativos menor impacto hay en el tráfico, aunque también dependería de qué tráfico suele haber en el lugar."
   ]
  },
  {
   "cell_type": "code",
   "execution_count": 52,
   "metadata": {
    "collapsed": false
   },
   "outputs": [
    {
     "data": {
      "image/png": "[encoded data removed]",
      "text/plain": [
       "<matplotlib.figure.Figure at 0x1359f358>"
      ]
     },
     "metadata": {},
     "output_type": "display_data"
    },
    {
     "data": {
      "text/plain": [
       "<ggplot: (21339189)>"
      ]
     },
     "execution_count": 52,
     "metadata": {},
     "output_type": "execute_result"
    }
   ],
   "source": [
    "qplot(data=impacts, x=\"opLanes\", y=\"delay\", color=\"impact\") + geom_point(size = 350)"
   ]
  },
  {
   "cell_type": "markdown",
   "metadata": {},
   "source": [
    "De igual forma, los retrasos suelen subir cuando los carriles operativos son menores"
   ]
  }
 ],
 "metadata": {
  "anaconda-cloud": {},
  "kernelspec": {
   "display_name": "Python [Root]",
   "language": "python",
   "name": "Python [Root]"
  },
  "language_info": {
   "codemirror_mode": {
    "name": "ipython",
    "version": 2
   },
   "file_extension": ".py",
   "mimetype": "text/x-python",
   "name": "python",
   "nbconvert_exporter": "python",
   "pygments_lexer": "ipython2",
   "version": "2.7.11"
  }
 },
 "nbformat": 4,
 "nbformat_minor": 0
}
